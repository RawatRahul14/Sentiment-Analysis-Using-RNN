{
  "cells": [
    {
      "cell_type": "markdown",
      "id": "60aa5522",
      "metadata": {
        "id": "60aa5522"
      },
      "source": [
        "## Task - 1: Understanding Sentiment Aalysis and RNNS"
      ]
    },
    {
      "cell_type": "markdown",
      "id": "978f27da",
      "metadata": {
        "id": "978f27da"
      },
      "source": [
        "**Q1. What is sentiment analysis and it's applications?**\n",
        "\n",
        "Sentiment analysis is the process of enabling a computer to determine the emotional tone—negative, neutral, or positive of a user's message based on digital text.\n",
        "\n",
        "Applications of sentiment analysis:\n",
        "- **Social Media Monitering:**\n",
        "    - Tracks public opinion on brands, products or events.\n",
        "    - Identify viral trends or customer sentiment shifts in real life.\n",
        "\n",
        "- **Customer Feedeback Analysis:**\n",
        "    - Analyze reviews to help understand satisfaction levels.\n",
        "    - Prioritize complaints or negative experiences for faster resolution."
      ]
    },
    {
      "cell_type": "markdown",
      "id": "68c83445",
      "metadata": {
        "id": "68c83445"
      },
      "source": [
        "**Q2. How RNNs differ from traditional feedforward neural networks?**\n",
        "\n",
        "A Recurrent Neural Network (RNN) is specially designed to handle sequential data or time series data, where the output at a particular time depends on previous inputs.\n",
        "\n",
        "They remember previous inputs using internal memory, which helps in learning patterns over time. For example, traditional neural networks can recognize digits in images, while RNNs are used for tasks like predicting the next word in a sentence, speech recognition, or stock price forecasting, where the order and context of data matter."
      ]
    },
    {
      "cell_type": "markdown",
      "id": "2f4a433f",
      "metadata": {
        "id": "2f4a433f"
      },
      "source": [
        "**Q3. The concept of hidden states and how information is passed through time steps in RNNs.**\n",
        "\n",
        "***Concept of Hidden States in RNNs***\n",
        "\n",
        "In RNNs, a hidden state is a memory-like vector that stores information from previous time steps. It's the key component that allows RNNs to handle sequential data like sentences, time series, or speech.\n",
        "\n",
        "***How Information is Passed Through Time Steps***\n",
        "1. At **Time Step t = 1**:\n",
        "    - Inputs: $x_1$\n",
        "    - Hidden state: $h_0$ (usually initialized as zeros)\n",
        "    - RNN Computes\n",
        "\n",
        "    $$\n",
        "    h_1 = \\tanh(W_{xh} \\cdot x_1 + W_{hh} \\cdot h_0 + b)\n",
        "    $$\n",
        "\n",
        "    - $h_1$ now stores the information from $x_1$\n",
        "\n",
        "2. At **Time Step t = 2**:\n",
        "    - Input: $x_2$\n",
        "    - Previous hidden state: $h_1$\n",
        "    - RNN computes:\n",
        "\n",
        "    $$\n",
        "    h_2 = \\tanh(W_{xh} \\cdot x_2 + W_{hh} \\cdot h_1 + b)\n",
        "    $$\n",
        "\n",
        "    - Now $h_2$ contains both $x_2$ and prior context $h_1$\n",
        "\n",
        "3. This continous for all time steps:\n",
        "\n",
        "$$\n",
        "h_t = \\tanh(W_{xh} \\cdot x_t + W_{hh} \\cdot h_{t-1} + b)\n",
        "$$\n",
        "\n",
        "Each hidden state carries the essence of all previous inputs, making the network capable of remembering sequences."
      ]
    },
    {
      "cell_type": "markdown",
      "id": "c6a877da",
      "metadata": {
        "id": "c6a877da"
      },
      "source": [
        "**Q4. Common issues with RNNs such as vanishing and exploding gradients.**\n",
        "\n",
        "RNNs often face two major issues:\n",
        "\n",
        "- ***Vanishing gradients***: Gradients become too small during training, making it hard to learn long-term dependencies.\n",
        "- ***Exploding gradients***: Gradients become too large, causing unstable training or model crash.\n",
        "\n",
        "These problems occur during backpropagation through many time steps."
      ]
    },
    {
      "cell_type": "code",
      "execution_count": 2,
      "id": "C8Ucme2KUxuK",
      "metadata": {
        "id": "C8Ucme2KUxuK"
      },
      "outputs": [],
      "source": [
        "import random\n",
        "import numpy as np\n",
        "import tensorflow as tf\n",
        "import os\n",
        "\n",
        "def set_global_seed(seed = 42):\n",
        "    random.seed(seed)\n",
        "    np.random.seed(seed)\n",
        "    tf.random.set_seed(seed)\n",
        "    os.environ['PYTHONHASHSEED'] = str(seed)"
      ]
    },
    {
      "cell_type": "code",
      "execution_count": 3,
      "id": "sTCR0U5xVBnz",
      "metadata": {
        "id": "sTCR0U5xVBnz"
      },
      "outputs": [],
      "source": [
        "set_global_seed(42)"
      ]
    },
    {
      "cell_type": "markdown",
      "id": "d27145c7",
      "metadata": {
        "id": "d27145c7"
      },
      "source": [
        "## Task - 2: Dataset Preparation"
      ]
    },
    {
      "cell_type": "markdown",
      "id": "14f670dc",
      "metadata": {
        "id": "14f670dc"
      },
      "source": [
        "#### Loading the IMDB dataset from the TensorFlow"
      ]
    },
    {
      "cell_type": "code",
      "execution_count": 4,
      "id": "6f681d0e",
      "metadata": {
        "id": "6f681d0e"
      },
      "outputs": [],
      "source": [
        "# Importing suitable packages\n",
        "import numpy as np\n",
        "import tensorflow as tf\n",
        "from tensorflow.keras.datasets import imdb\n",
        "from tensorflow.keras.preprocessing.sequence import pad_sequences"
      ]
    },
    {
      "cell_type": "code",
      "execution_count": 5,
      "id": "d38c47cb",
      "metadata": {
        "colab": {
          "base_uri": "https://localhost:8080/"
        },
        "id": "d38c47cb",
        "outputId": "246759ad-2770-43bf-a514-0bc3a809697a"
      },
      "outputs": [
        {
          "name": "stdout",
          "output_type": "stream",
          "text": [
            "Downloading data from https://storage.googleapis.com/tensorflow/tf-keras-datasets/imdb.npz\n",
            "\u001b[1m17464789/17464789\u001b[0m \u001b[32m━━━━━━━━━━━━━━━━━━━━\u001b[0m\u001b[37m\u001b[0m \u001b[1m0s\u001b[0m 0us/step\n"
          ]
        }
      ],
      "source": [
        "# Loading the dataset, the tokenization is already done by the TensorFlow\n",
        "vocab_size = 10_000\n",
        "(x_train, y_train), (x_test, y_test) = imdb.load_data(num_words = vocab_size)"
      ]
    },
    {
      "cell_type": "code",
      "execution_count": 6,
      "id": "8c2e704d",
      "metadata": {
        "colab": {
          "base_uri": "https://localhost:8080/"
        },
        "id": "8c2e704d",
        "outputId": "f40e727c-6073-46f9-b511-76fde48465a1"
      },
      "outputs": [
        {
          "name": "stdout",
          "output_type": "stream",
          "text": [
            "Shape of the X_train dataset: (25000,) and Y_train: (25000,)\n",
            "Shape of the X_test dataset: (25000,) and Y_test: (25000,)\n"
          ]
        }
      ],
      "source": [
        "# Shape of the training and test datasets\n",
        "print(f\"Shape of the X_train dataset: {x_train.shape} and Y_train: {y_train.shape}\")\n",
        "print(f\"Shape of the X_test dataset: {x_test.shape} and Y_test: {y_test.shape}\")"
      ]
    },
    {
      "cell_type": "code",
      "execution_count": 7,
      "id": "d36a8920",
      "metadata": {
        "colab": {
          "base_uri": "https://localhost:8080/"
        },
        "id": "d36a8920",
        "outputId": "3f0b62bc-e20a-4be9-fc5e-71e837ee9334"
      },
      "outputs": [
        {
          "name": "stdout",
          "output_type": "stream",
          "text": [
            "[1, 14, 22, 16, 43, 530, 973, 1622, 1385, 65, 458, 4468, 66, 3941, 4, 173, 36, 256, 5, 25, 100, 43, 838, 112, 50, 670, 2, 9, 35, 480, 284, 5, 150, 4, 172, 112, 167, 2, 336, 385, 39, 4, 172, 4536, 1111, 17, 546, 38, 13, 447, 4, 192, 50, 16, 6, 147, 2025, 19, 14, 22, 4, 1920, 4613, 469, 4, 22, 71, 87, 12, 16, 43, 530, 38, 76, 15, 13, 1247, 4, 22, 17, 515, 17, 12, 16, 626, 18, 2, 5, 62, 386, 12, 8, 316, 8, 106, 5, 4, 2223, 5244, 16, 480, 66, 3785, 33, 4, 130, 12, 16, 38, 619, 5, 25, 124, 51, 36, 135, 48, 25, 1415, 33, 6, 22, 12, 215, 28, 77, 52, 5, 14, 407, 16, 82, 2, 8, 4, 107, 117, 5952, 15, 256, 4, 2, 7, 3766, 5, 723, 36, 71, 43, 530, 476, 26, 400, 317, 46, 7, 4, 2, 1029, 13, 104, 88, 4, 381, 15, 297, 98, 32, 2071, 56, 26, 141, 6, 194, 7486, 18, 4, 226, 22, 21, 134, 476, 26, 480, 5, 144, 30, 5535, 18, 51, 36, 28, 224, 92, 25, 104, 4, 226, 65, 16, 38, 1334, 88, 12, 16, 283, 5, 16, 4472, 113, 103, 32, 15, 16, 5345, 19, 178, 32]: 1\n",
            "[1, 194, 1153, 194, 8255, 78, 228, 5, 6, 1463, 4369, 5012, 134, 26, 4, 715, 8, 118, 1634, 14, 394, 20, 13, 119, 954, 189, 102, 5, 207, 110, 3103, 21, 14, 69, 188, 8, 30, 23, 7, 4, 249, 126, 93, 4, 114, 9, 2300, 1523, 5, 647, 4, 116, 9, 35, 8163, 4, 229, 9, 340, 1322, 4, 118, 9, 4, 130, 4901, 19, 4, 1002, 5, 89, 29, 952, 46, 37, 4, 455, 9, 45, 43, 38, 1543, 1905, 398, 4, 1649, 26, 6853, 5, 163, 11, 3215, 2, 4, 1153, 9, 194, 775, 7, 8255, 2, 349, 2637, 148, 605, 2, 8003, 15, 123, 125, 68, 2, 6853, 15, 349, 165, 4362, 98, 5, 4, 228, 9, 43, 2, 1157, 15, 299, 120, 5, 120, 174, 11, 220, 175, 136, 50, 9, 4373, 228, 8255, 5, 2, 656, 245, 2350, 5, 4, 9837, 131, 152, 491, 18, 2, 32, 7464, 1212, 14, 9, 6, 371, 78, 22, 625, 64, 1382, 9, 8, 168, 145, 23, 4, 1690, 15, 16, 4, 1355, 5, 28, 6, 52, 154, 462, 33, 89, 78, 285, 16, 145, 95]: 0\n",
            "[1, 14, 47, 8, 30, 31, 7, 4, 249, 108, 7, 4, 5974, 54, 61, 369, 13, 71, 149, 14, 22, 112, 4, 2401, 311, 12, 16, 3711, 33, 75, 43, 1829, 296, 4, 86, 320, 35, 534, 19, 263, 4821, 1301, 4, 1873, 33, 89, 78, 12, 66, 16, 4, 360, 7, 4, 58, 316, 334, 11, 4, 1716, 43, 645, 662, 8, 257, 85, 1200, 42, 1228, 2578, 83, 68, 3912, 15, 36, 165, 1539, 278, 36, 69, 2, 780, 8, 106, 14, 6905, 1338, 18, 6, 22, 12, 215, 28, 610, 40, 6, 87, 326, 23, 2300, 21, 23, 22, 12, 272, 40, 57, 31, 11, 4, 22, 47, 6, 2307, 51, 9, 170, 23, 595, 116, 595, 1352, 13, 191, 79, 638, 89, 2, 14, 9, 8, 106, 607, 624, 35, 534, 6, 227, 7, 129, 113]: 0\n",
            "[1, 4, 2, 2, 33, 2804, 4, 2040, 432, 111, 153, 103, 4, 1494, 13, 70, 131, 67, 11, 61, 2, 744, 35, 3715, 761, 61, 5766, 452, 9214, 4, 985, 7, 2, 59, 166, 4, 105, 216, 1239, 41, 1797, 9, 15, 7, 35, 744, 2413, 31, 8, 4, 687, 23, 4, 2, 7339, 6, 3693, 42, 38, 39, 121, 59, 456, 10, 10, 7, 265, 12, 575, 111, 153, 159, 59, 16, 1447, 21, 25, 586, 482, 39, 4, 96, 59, 716, 12, 4, 172, 65, 9, 579, 11, 6004, 4, 1615, 5, 2, 7, 5168, 17, 13, 7064, 12, 19, 6, 464, 31, 314, 11, 2, 6, 719, 605, 11, 8, 202, 27, 310, 4, 3772, 3501, 8, 2722, 58, 10, 10, 537, 2116, 180, 40, 14, 413, 173, 7, 263, 112, 37, 152, 377, 4, 537, 263, 846, 579, 178, 54, 75, 71, 476, 36, 413, 263, 2504, 182, 5, 17, 75, 2306, 922, 36, 279, 131, 2895, 17, 2867, 42, 17, 35, 921, 2, 192, 5, 1219, 3890, 19, 2, 217, 4122, 1710, 537, 2, 1236, 5, 736, 10, 10, 61, 403, 9, 2, 40, 61, 4494, 5, 27, 4494, 159, 90, 263, 2311, 4319, 309, 8, 178, 5, 82, 4319, 4, 65, 15, 9225, 145, 143, 5122, 12, 7039, 537, 746, 537, 537, 15, 7979, 4, 2, 594, 7, 5168, 94, 9096, 3987, 2, 11, 2, 4, 538, 7, 1795, 246, 2, 9, 2, 11, 635, 14, 9, 51, 408, 12, 94, 318, 1382, 12, 47, 6, 2683, 936, 5, 6307, 2, 19, 49, 7, 4, 1885, 2, 1118, 25, 80, 126, 842, 10, 10, 2, 2, 4726, 27, 4494, 11, 1550, 3633, 159, 27, 341, 29, 2733, 19, 4185, 173, 7, 90, 2, 8, 30, 11, 4, 1784, 86, 1117, 8, 3261, 46, 11, 2, 21, 29, 9, 2841, 23, 4, 1010, 2, 793, 6, 2, 1386, 1830, 10, 10, 246, 50, 9, 6, 2750, 1944, 746, 90, 29, 2, 8, 124, 4, 882, 4, 882, 496, 27, 2, 2213, 537, 121, 127, 1219, 130, 5, 29, 494, 8, 124, 4, 882, 496, 4, 341, 7, 27, 846, 10, 10, 29, 9, 1906, 8, 97, 6, 236, 2, 1311, 8, 4, 2, 7, 31, 7, 2, 91, 2, 3987, 70, 4, 882, 30, 579, 42, 9, 12, 32, 11, 537, 10, 10, 11, 14, 65, 44, 537, 75, 2, 1775, 3353, 2, 1846, 4, 2, 7, 154, 5, 4, 518, 53, 2, 2, 7, 3211, 882, 11, 399, 38, 75, 257, 3807, 19, 2, 17, 29, 456, 4, 65, 7, 27, 205, 113, 10, 10, 2, 4, 2, 2, 9, 242, 4, 91, 1202, 2, 5, 2070, 307, 22, 7, 5168, 126, 93, 40, 2, 13, 188, 1076, 3222, 19, 4, 2, 7, 2348, 537, 23, 53, 537, 21, 82, 40, 2, 13, 2, 14, 280, 13, 219, 4, 2, 431, 758, 859, 4, 953, 1052, 2, 7, 5991, 5, 94, 40, 25, 238, 60, 2, 4, 2, 804, 2, 7, 4, 9941, 132, 8, 67, 6, 22, 15, 9, 283, 8, 5168, 14, 31, 9, 242, 955, 48, 25, 279, 2, 23, 12, 1685, 195, 25, 238, 60, 796, 2, 4, 671, 7, 2804, 5, 4, 559, 154, 888, 7, 726, 50, 26, 49, 7008, 15, 566, 30, 579, 21, 64, 2574]: 1\n",
            "[1, 249, 1323, 7, 61, 113, 10, 10, 13, 1637, 14, 20, 56, 33, 2401, 18, 457, 88, 13, 2626, 1400, 45, 3171, 13, 70, 79, 49, 706, 919, 13, 16, 355, 340, 355, 1696, 96, 143, 4, 22, 32, 289, 7, 61, 369, 71, 2359, 5, 13, 16, 131, 2073, 249, 114, 249, 229, 249, 20, 13, 28, 126, 110, 13, 473, 8, 569, 61, 419, 56, 429, 6, 1513, 18, 35, 534, 95, 474, 570, 5, 25, 124, 138, 88, 12, 421, 1543, 52, 725, 6397, 61, 419, 11, 13, 1571, 15, 1543, 20, 11, 4, 2, 5, 296, 12, 3524, 5, 15, 421, 128, 74, 233, 334, 207, 126, 224, 12, 562, 298, 2167, 1272, 7, 2601, 5, 516, 988, 43, 8, 79, 120, 15, 595, 13, 784, 25, 3171, 18, 165, 170, 143, 19, 14, 5, 7224, 6, 226, 251, 7, 61, 113]: 0\n"
          ]
        }
      ],
      "source": [
        "# First few examples from the train dataset\n",
        "for i in range(5):\n",
        "    print(f\"{x_train[i]}: {y_train[i]}\")"
      ]
    },
    {
      "cell_type": "code",
      "execution_count": 8,
      "id": "b996b732",
      "metadata": {
        "colab": {
          "base_uri": "https://localhost:8080/"
        },
        "id": "b996b732",
        "outputId": "f3c19bc6-cb3b-4b00-c20d-dd3a6d0c15da"
      },
      "outputs": [
        {
          "name": "stdout",
          "output_type": "stream",
          "text": [
            "Maximum review length in training data: 2494\n"
          ]
        }
      ],
      "source": [
        "# Finding the maximum review length\n",
        "maxlen_review = max(len(review) for review in x_train)\n",
        "print(f\"Maximum review length in training data: {maxlen_review}\")"
      ]
    },
    {
      "cell_type": "markdown",
      "id": "cc76ac66",
      "metadata": {
        "id": "cc76ac66"
      },
      "source": [
        "> **Note**: Using the *maximum length* can lead to large input sizes and **slower training**, especially if a few reviews are extremely long."
      ]
    },
    {
      "cell_type": "code",
      "execution_count": 9,
      "id": "4100550f",
      "metadata": {
        "colab": {
          "base_uri": "https://localhost:8080/"
        },
        "id": "4100550f",
        "outputId": "fb2ccfeb-ade6-4487-c16a-c97a9df45310"
      },
      "outputs": [
        {
          "name": "stdout",
          "output_type": "stream",
          "text": [
            "Using maxlen = 467 for padding.\n"
          ]
        }
      ],
      "source": [
        "# Setting maxlen to the 90th percentile of review lengths to capture most data while avoiding very long outliers\n",
        "review_lengths = [len(review) for review in x_train]\n",
        "maxlen = int(np.percentile(review_lengths, 90))\n",
        "\n",
        "print(f\"Using maxlen = {maxlen} for padding.\")"
      ]
    },
    {
      "cell_type": "code",
      "execution_count": 10,
      "id": "a9245831",
      "metadata": {
        "id": "a9245831"
      },
      "outputs": [],
      "source": [
        "# Applying the padding on the training and testing data\n",
        "x_train_padded = pad_sequences(x_train, maxlen = maxlen, padding = \"post\", truncating = \"post\")\n",
        "x_test_padded = pad_sequences(x_test, maxlen = maxlen, padding = \"post\", truncating = \"post\")"
      ]
    },
    {
      "cell_type": "code",
      "execution_count": 11,
      "id": "ea54e267",
      "metadata": {
        "colab": {
          "base_uri": "https://localhost:8080/"
        },
        "id": "ea54e267",
        "outputId": "47ee2042-3239-4a03-bcb1-d5ba126b2da9"
      },
      "outputs": [
        {
          "name": "stdout",
          "output_type": "stream",
          "text": [
            "Shape of padded x_train: (25000, 467)\n",
            "Shape of padded x_test: (25000, 467)\n"
          ]
        }
      ],
      "source": [
        "print(f\"Shape of padded x_train: {x_train_padded.shape}\")\n",
        "print(f\"Shape of padded x_test: {x_test_padded.shape}\")"
      ]
    },
    {
      "cell_type": "markdown",
      "id": "81889906",
      "metadata": {
        "id": "81889906"
      },
      "source": [
        "## Task - 3: Building RNN Model"
      ]
    },
    {
      "cell_type": "code",
      "execution_count": 12,
      "id": "3070c454",
      "metadata": {
        "id": "3070c454"
      },
      "outputs": [],
      "source": [
        "from tensorflow.keras.models import Model\n",
        "from tensorflow.keras.layers import InputLayer, Embedding, LSTM, Dense"
      ]
    },
    {
      "cell_type": "markdown",
      "id": "TW_6porm4Z5a",
      "metadata": {
        "id": "TW_6porm4Z5a"
      },
      "source": [
        "First, creating an RNN model with just just a single LSTM layer and a single dense layer.\n",
        "- vocab_size = 10_000 (similar to what we used while downloading the dataset)\n",
        "- input_length = maxlen (90th percentile of review lengths)\n",
        "- embedding_size = 128\n",
        "- lstm_units = 64\n",
        "- dense_units = 32"
      ]
    },
    {
      "cell_type": "code",
      "execution_count": 13,
      "id": "17c1ca2d",
      "metadata": {
        "id": "17c1ca2d"
      },
      "outputs": [],
      "source": [
        "class RNNmodel(Model):\n",
        "    def __init__(self, vocab_size, input_length, embedding_size: int = 128, lstm_units: int = 64, dense_units: int = 32):\n",
        "        super(RNNmodel, self).__init__()\n",
        "\n",
        "        # Embedding Layer\n",
        "        self.embedding_layer = Embedding(input_dim = vocab_size, output_dim = embedding_size, input_length = input_length)\n",
        "\n",
        "        # LSTM layers\n",
        "        self.lstm_layer = LSTM(units = lstm_units)\n",
        "\n",
        "        # Dense Layers\n",
        "        self.dense_layer = Dense(units = dense_units*2, activation = \"relu\")\n",
        "\n",
        "        # Output Layer\n",
        "        self.output_layer = Dense(units = 1, activation = \"sigmoid\")\n",
        "\n",
        "    def call(self, inputs):\n",
        "        x = self.embedding_layer(inputs)\n",
        "        x = self.lstm_layer(x)\n",
        "        x = self.dense_layer(x)\n",
        "        return self.output_layer(x)"
      ]
    },
    {
      "cell_type": "markdown",
      "id": "_OUr_VPCFn8W",
      "metadata": {
        "id": "_OUr_VPCFn8W"
      },
      "source": [
        "Now for the model compiling:\n",
        "- loss funtion is set to \"binary_crossentropy\" as there are only 2 classification labels.\n",
        "- Adam optimizer is used\n",
        "- For metrics accuracy is taken. (ratio of Total number of correct prediction with total predictions)"
      ]
    },
    {
      "cell_type": "code",
      "execution_count": 14,
      "id": "ecdb51d1",
      "metadata": {
        "colab": {
          "base_uri": "https://localhost:8080/"
        },
        "id": "ecdb51d1",
        "outputId": "b326fa69-f246-4ae0-b38d-c886ddc607d3"
      },
      "outputs": [
        {
          "name": "stderr",
          "output_type": "stream",
          "text": [
            "/usr/local/lib/python3.11/dist-packages/keras/src/layers/core/embedding.py:90: UserWarning: Argument `input_length` is deprecated. Just remove it.\n",
            "  warnings.warn(\n"
          ]
        }
      ],
      "source": [
        "model = RNNmodel(vocab_size = vocab_size, input_length = maxlen)\n",
        "\n",
        "model.compile(loss = \"binary_crossentropy\",\n",
        "              optimizer = \"adam\",\n",
        "              metrics = [\"accuracy\"])"
      ]
    },
    {
      "cell_type": "markdown",
      "id": "20aa3443",
      "metadata": {
        "id": "20aa3443"
      },
      "source": [
        "## Task - 4: Train the Model"
      ]
    },
    {
      "cell_type": "code",
      "execution_count": 15,
      "id": "bcc6ddcd",
      "metadata": {
        "id": "bcc6ddcd"
      },
      "outputs": [],
      "source": [
        "from tensorflow.keras.callbacks import EarlyStopping\n",
        "from sklearn.model_selection import train_test_split"
      ]
    },
    {
      "cell_type": "code",
      "execution_count": 16,
      "id": "860f2ee4",
      "metadata": {
        "id": "860f2ee4"
      },
      "outputs": [],
      "source": [
        "# Splitting the data into Training and validation dataset with 80% in training and 20% in test\n",
        "x_train_final, x_val, y_train_final, y_val = train_test_split(x_train_padded, y_train, test_size = 0.2, random_state = 42)"
      ]
    },
    {
      "cell_type": "code",
      "execution_count": 17,
      "id": "5b73e4a8",
      "metadata": {
        "id": "5b73e4a8"
      },
      "outputs": [],
      "source": [
        "# Creating a early_stop function that wll stop the model training when the `val_loss` won't decrease for 3 epochs\n",
        "early_stop = EarlyStopping(\n",
        "    monitor = \"val_loss\",\n",
        "    patience = 3,\n",
        "    restore_best_weights = True\n",
        ")"
      ]
    },
    {
      "cell_type": "markdown",
      "id": "-IbFArgTGYow",
      "metadata": {
        "id": "-IbFArgTGYow"
      },
      "source": [
        "Training the model on 10 epochs and 64 batch_size."
      ]
    },
    {
      "cell_type": "code",
      "execution_count": 18,
      "id": "55cf4e55",
      "metadata": {
        "colab": {
          "base_uri": "https://localhost:8080/"
        },
        "id": "55cf4e55",
        "outputId": "e74bffd8-162a-47cb-afda-5a2bae1ee582"
      },
      "outputs": [
        {
          "name": "stdout",
          "output_type": "stream",
          "text": [
            "Epoch 1/10\n",
            "\u001b[1m313/313\u001b[0m \u001b[32m━━━━━━━━━━━━━━━━━━━━\u001b[0m\u001b[37m\u001b[0m \u001b[1m14s\u001b[0m 25ms/step - accuracy: 0.5025 - loss: 0.6929 - val_accuracy: 0.4972 - val_loss: 0.6927\n",
            "Epoch 2/10\n",
            "\u001b[1m313/313\u001b[0m \u001b[32m━━━━━━━━━━━━━━━━━━━━\u001b[0m\u001b[37m\u001b[0m \u001b[1m7s\u001b[0m 20ms/step - accuracy: 0.5292 - loss: 0.6827 - val_accuracy: 0.5004 - val_loss: 0.6974\n",
            "Epoch 3/10\n",
            "\u001b[1m313/313\u001b[0m \u001b[32m━━━━━━━━━━━━━━━━━━━━\u001b[0m\u001b[37m\u001b[0m \u001b[1m7s\u001b[0m 21ms/step - accuracy: 0.5386 - loss: 0.6546 - val_accuracy: 0.4986 - val_loss: 0.7315\n",
            "Epoch 4/10\n",
            "\u001b[1m313/313\u001b[0m \u001b[32m━━━━━━━━━━━━━━━━━━━━\u001b[0m\u001b[37m\u001b[0m \u001b[1m10s\u001b[0m 22ms/step - accuracy: 0.5534 - loss: 0.6324 - val_accuracy: 0.4972 - val_loss: 0.7853\n"
          ]
        }
      ],
      "source": [
        "history = model.fit(x_train_final, y_train_final,\n",
        "                    epochs = 10,\n",
        "                    batch_size = 64,\n",
        "                    validation_data = (x_val, y_val),\n",
        "                    callbacks = [early_stop])"
      ]
    },
    {
      "cell_type": "markdown",
      "id": "CkOlxEXi5Av5",
      "metadata": {
        "id": "CkOlxEXi5Av5"
      },
      "source": [
        "It can be seen clearly that even if the accuracy for both the training and validation dataset is increasing the loss value for the validation data is keep on increasing. That's why the callback function is stopping the model training."
      ]
    },
    {
      "cell_type": "markdown",
      "id": "mFKpuVMcGxgm",
      "metadata": {
        "id": "mFKpuVMcGxgm"
      },
      "source": [
        "## Taske - 5: Model Evaluation"
      ]
    },
    {
      "cell_type": "markdown",
      "id": "9ib8QUAJIamz",
      "metadata": {
        "id": "9ib8QUAJIamz"
      },
      "source": [
        "Model's perforance on the test dataset."
      ]
    },
    {
      "cell_type": "code",
      "execution_count": 19,
      "id": "z2h7Gkwz3QNZ",
      "metadata": {
        "colab": {
          "base_uri": "https://localhost:8080/"
        },
        "id": "z2h7Gkwz3QNZ",
        "outputId": "80d3bf6d-8eeb-4db6-b383-9a1efb088404"
      },
      "outputs": [
        {
          "name": "stdout",
          "output_type": "stream",
          "text": [
            "\u001b[1m157/157\u001b[0m \u001b[32m━━━━━━━━━━━━━━━━━━━━\u001b[0m\u001b[37m\u001b[0m \u001b[1m1s\u001b[0m 8ms/step - accuracy: 0.4973 - loss: 0.6923\n",
            "Test Loss: 0.6927\n",
            "Test Accuracy: 0.4972\n"
          ]
        }
      ],
      "source": [
        "loss, accuracy = model.evaluate(x_val, y_val)\n",
        "print(f\"Test Loss: {loss:.4f}\")\n",
        "print(f\"Test Accuracy: {accuracy:.4f}\")"
      ]
    },
    {
      "cell_type": "markdown",
      "id": "gltv7_s-Ieeh",
      "metadata": {
        "id": "gltv7_s-Ieeh"
      },
      "source": [
        "Plotting the accuracy and loss of the training and validation dataset on the graph."
      ]
    },
    {
      "cell_type": "code",
      "execution_count": 20,
      "id": "tF-TwS5_Hec-",
      "metadata": {
        "id": "tF-TwS5_Hec-"
      },
      "outputs": [],
      "source": [
        "import matplotlib.pyplot as plt"
      ]
    },
    {
      "cell_type": "code",
      "execution_count": 21,
      "id": "TRmvKFNFHiFN",
      "metadata": {
        "colab": {
          "base_uri": "https://localhost:8080/",
          "height": 507
        },
        "id": "TRmvKFNFHiFN",
        "outputId": "4ba03dca-55ec-4ff8-e3e0-a535becc9d79"
      },
      "outputs": [
        {
          "data": {
            "image/png": "[encoded data removed]",
            "text/plain": [
              "<Figure size 1200x500 with 2 Axes>"
            ]
          },
          "metadata": {},
          "output_type": "display_data"
        }
      ],
      "source": [
        "# Plot training & validation accuracy\n",
        "plt.figure(figsize = (12, 5))\n",
        "\n",
        "# Accuracy\n",
        "plt.subplot(1, 2, 1)\n",
        "plt.plot(history.history[\"accuracy\"], label = \"Train Accuracy\")\n",
        "plt.plot(history.history[\"val_accuracy\"], label = \"Val Accuracy\")\n",
        "plt.title(\"Training vs Validation Accuracy\")\n",
        "plt.xlabel(\"Epochs\")\n",
        "plt.ylabel(\"Accuracy\")\n",
        "plt.legend()\n",
        "\n",
        "# Loss\n",
        "plt.subplot(1, 2, 2)\n",
        "plt.plot(history.history[\"loss\"], label = \"Train Loss\")\n",
        "plt.plot(history.history[\"val_loss\"], label = \"Val Loss\")\n",
        "plt.title(\"Training vs Validation Loss\")\n",
        "plt.xlabel(\"Epochs\")\n",
        "plt.ylabel(\"Loss\")\n",
        "plt.legend()\n",
        "\n",
        "plt.tight_layout()\n",
        "plt.show()"
      ]
    },
    {
      "cell_type": "markdown",
      "id": "8fyg2lsoI8lQ",
      "metadata": {
        "id": "8fyg2lsoI8lQ"
      },
      "source": [
        "1. Accuracy Plot Analysis\n",
        "- ***Training Accuracy:*** Shows a steady increase across epochs means model is learning the training data.\n",
        "\n",
        "- ***Validation Accuracy***: Peaks early and then declines which suggests the model is overfitting after a couple of epochs."
      ]
    },
    {
      "cell_type": "markdown",
      "id": "Lkio4jvfJMzr",
      "metadata": {
        "id": "Lkio4jvfJMzr"
      },
      "source": [
        "2. Loss Plot Analysis\n",
        "- ***Training Loss***: Decreases consistently suggests that the model is minimizing error on training data.\n",
        "\n",
        "- ***Validation Loss***: Increases steadily which gives another strong sign of overfitting."
      ]
    },
    {
      "cell_type": "markdown",
      "id": "j6q8DEu1JfX1",
      "metadata": {
        "id": "j6q8DEu1JfX1"
      },
      "source": [
        "**Conclusion**\n",
        "- The RNN model is overfitting: it performs well on training data but fails to generalize.\n",
        "\n",
        "- The widening gap between training and validation curves confirms this.\n",
        "\n"
      ]
    },
    {
      "cell_type": "markdown",
      "id": "lKYo1myMJqXa",
      "metadata": {
        "id": "lKYo1myMJqXa"
      },
      "source": [
        "## Task - 6: Hyper parameter tuning"
      ]
    },
    {
      "cell_type": "markdown",
      "id": "IF75Oo61KASX",
      "metadata": {
        "id": "IF75Oo61KASX"
      },
      "source": [
        "For tuning the hyper parameters for the model, I will be using the `keras_tuner` library."
      ]
    },
    {
      "cell_type": "code",
      "execution_count": 22,
      "id": "AHLYmRNOIWZ1",
      "metadata": {
        "id": "AHLYmRNOIWZ1"
      },
      "outputs": [],
      "source": [
        "import keras_tuner as kt\n",
        "from tensorflow.keras import layers, Model, optimizers"
      ]
    },
    {
      "cell_type": "markdown",
      "id": "ifkyA8OAuvBo",
      "metadata": {
        "id": "ifkyA8OAuvBo"
      },
      "source": [
        "Defines an LSTM-based model for binary text classification. Key hyperparameters like embedding size, LSTM units, dense units, and learning rate are tunable using Keras Tuner. The model uses an Embedding layer followed by LSTM and Dense layers with sigmoid output."
      ]
    },
    {
      "cell_type": "code",
      "execution_count": 23,
      "id": "2acDce5VKazJ",
      "metadata": {
        "id": "2acDce5VKazJ"
      },
      "outputs": [],
      "source": [
        "def model_builder(hp):\n",
        "  vocab_size = 10_000\n",
        "  input_length = maxlen\n",
        "\n",
        "  # Hyper parameters to tune\n",
        "  embedding_dim = hp.Choice(\"embedding_dim\", [64, 128, 256])\n",
        "  lstm_units = hp.Int(\"lstm_units\", min_value = 32, max_value = 128, step = 32)\n",
        "  dense_units = hp.Int(\"dense_units\", min_value = 32, max_value = 256, step = 32)\n",
        "  learning_rate = hp.Choice(\"learning_rate\", [1e-3, 1e-4, 2e-4, 5e-4])\n",
        "\n",
        "  inputs = layers.Input(shape = (input_length, ))\n",
        "  x = layers.Embedding(input_dim = vocab_size, output_dim = embedding_dim)(inputs)\n",
        "  x = layers.LSTM(units = lstm_units)(x)\n",
        "  x = layers.Dense(units = dense_units, activation = \"relu\")(x)\n",
        "  outputs = layers.Dense(units = 1, activation = \"sigmoid\")(x)\n",
        "\n",
        "  model = Model(inputs, outputs)\n",
        "\n",
        "  model.compile(optimizer = optimizers.Adam(learning_rate = learning_rate),\n",
        "                loss = \"binary_crossentropy\",\n",
        "                metrics = [\"accuracy\"])\n",
        "\n",
        "  return model"
      ]
    },
    {
      "cell_type": "markdown",
      "id": "C9v2Ft7xu2jC",
      "metadata": {
        "id": "C9v2Ft7xu2jC"
      },
      "source": [
        "Initializes Keras Tuner with `RandomSearch` to optimize validation accuracy.  Performs 10 trials with 1 execution each and saves results in the `'kt_dir/imdb_rnn_tuning'` directory."
      ]
    },
    {
      "cell_type": "code",
      "execution_count": 24,
      "id": "t84Qn602MXgh",
      "metadata": {
        "id": "t84Qn602MXgh"
      },
      "outputs": [],
      "source": [
        "tuner = kt.RandomSearch(\n",
        "    model_builder,\n",
        "    objective = \"val_accuracy\",\n",
        "    max_trials = 10,\n",
        "    executions_per_trial = 1,\n",
        "    directory = \"kt_dir\",\n",
        "    project_name = \"imdb_rnn_tuning\"\n",
        ")"
      ]
    },
    {
      "cell_type": "code",
      "execution_count": 25,
      "id": "YwniRmzyMrGu",
      "metadata": {
        "colab": {
          "base_uri": "https://localhost:8080/"
        },
        "id": "YwniRmzyMrGu",
        "outputId": "ee4ff2e7-eb6d-4a63-f718-8d4b3c1dbb34"
      },
      "outputs": [
        {
          "name": "stdout",
          "output_type": "stream",
          "text": [
            "Trial 10 Complete [00h 01m 32s]\n",
            "val_accuracy: 0.5284000039100647\n",
            "\n",
            "Best val_accuracy So Far: 0.8447999954223633\n",
            "Total elapsed time: 00h 15m 39s\n"
          ]
        }
      ],
      "source": [
        "tuner.search(x_train_final, y_train_final,\n",
        "             epochs = 10,\n",
        "             batch_size = 64,\n",
        "             validation_data = (x_val, y_val))"
      ]
    },
    {
      "cell_type": "markdown",
      "id": "T1UpyZQTu_97",
      "metadata": {
        "id": "T1UpyZQTu_97"
      },
      "source": [
        "Retrieving the best hyper-parameters found using the `Keras_tuner`."
      ]
    },
    {
      "cell_type": "code",
      "execution_count": 26,
      "id": "ckPfnqhlNE8o",
      "metadata": {
        "colab": {
          "base_uri": "https://localhost:8080/"
        },
        "id": "ckPfnqhlNE8o",
        "outputId": "740819f8-eec9-4f8e-c1e0-c824f601afbc"
      },
      "outputs": [
        {
          "name": "stdout",
          "output_type": "stream",
          "text": [
            "Best hyperparameters:\n",
            "{'embedding_dim': 256, 'lstm_units': 128, 'dense_units': 192, 'learning_rate': 0.001}\n"
          ]
        },
        {
          "name": "stderr",
          "output_type": "stream",
          "text": [
            "/usr/local/lib/python3.11/dist-packages/keras/src/saving/saving_lib.py:757: UserWarning: Skipping variable loading for optimizer 'adam', because it has 2 variables whereas the saved optimizer has 18 variables. \n",
            "  saveable.load_own_variables(weights_store.get(inner_path))\n"
          ]
        }
      ],
      "source": [
        "best_model = tuner.get_best_models(num_models = 1)[0]\n",
        "best_hyperparams = tuner.get_best_hyperparameters()[0]\n",
        "\n",
        "print(\"Best hyperparameters:\")\n",
        "print(best_hyperparams.values)"
      ]
    },
    {
      "cell_type": "markdown",
      "id": "LNsBcNj3veUe",
      "metadata": {
        "id": "LNsBcNj3veUe"
      },
      "source": [
        "Re-training the models with the best hyper-parameters to make visualizations."
      ]
    },
    {
      "cell_type": "code",
      "execution_count": 31,
      "id": "rxQ4GJAYS2ZP",
      "metadata": {
        "id": "rxQ4GJAYS2ZP"
      },
      "outputs": [],
      "source": [
        "best_rnn_model = RNNmodel(\n",
        "    vocab_size = vocab_size,\n",
        "    input_length = maxlen,\n",
        "    embedding_size = best_hyperparams.get(\"embedding_dim\"),\n",
        "    lstm_units = best_hyperparams.get(\"lstm_units\"),\n",
        "    dense_units = best_hyperparams.get(\"dense_units\")\n",
        ")\n",
        "\n",
        "best_rnn_model.compile(\n",
        "    loss = \"binary_crossentropy\",\n",
        "    optimizer = optimizers.Adam(learning_rate = best_hyperparams.get(\"learning_rate\")),\n",
        "    metrics = [\"accuracy\"]\n",
        ")"
      ]
    },
    {
      "cell_type": "code",
      "execution_count": 32,
      "id": "loLICVKlrmDN",
      "metadata": {
        "id": "loLICVKlrmDN"
      },
      "outputs": [],
      "source": [
        "# Creating a early_stop function that wll stop the model training when the `val_loss` won't decrease for 3 epochs\n",
        "early_stop = EarlyStopping(\n",
        "    monitor = \"val_accuracy\",\n",
        "    patience = 2,\n",
        "    restore_best_weights = True\n",
        ")"
      ]
    },
    {
      "cell_type": "code",
      "execution_count": 33,
      "id": "UYNb07A-qVs-",
      "metadata": {
        "colab": {
          "base_uri": "https://localhost:8080/"
        },
        "id": "UYNb07A-qVs-",
        "outputId": "676f8eee-2e18-4983-a404-8257e03c1a72"
      },
      "outputs": [
        {
          "name": "stdout",
          "output_type": "stream",
          "text": [
            "Epoch 1/10\n",
            "\u001b[1m313/313\u001b[0m \u001b[32m━━━━━━━━━━━━━━━━━━━━\u001b[0m\u001b[37m\u001b[0m \u001b[1m12s\u001b[0m 33ms/step - accuracy: 0.5053 - loss: 0.6935 - val_accuracy: 0.5144 - val_loss: 0.6955\n",
            "Epoch 2/10\n",
            "\u001b[1m313/313\u001b[0m \u001b[32m━━━━━━━━━━━━━━━━━━━━\u001b[0m\u001b[37m\u001b[0m \u001b[1m10s\u001b[0m 31ms/step - accuracy: 0.5070 - loss: 0.6862 - val_accuracy: 0.4994 - val_loss: 0.7101\n",
            "Epoch 3/10\n",
            "\u001b[1m313/313\u001b[0m \u001b[32m━━━━━━━━━━━━━━━━━━━━\u001b[0m\u001b[37m\u001b[0m \u001b[1m10s\u001b[0m 31ms/step - accuracy: 0.5360 - loss: 0.6616 - val_accuracy: 0.4948 - val_loss: 0.7613\n",
            "Epoch 4/10\n",
            "\u001b[1m313/313\u001b[0m \u001b[32m━━━━━━━━━━━━━━━━━━━━\u001b[0m\u001b[37m\u001b[0m \u001b[1m10s\u001b[0m 31ms/step - accuracy: 0.5525 - loss: 0.6417 - val_accuracy: 0.4968 - val_loss: 0.8014\n",
            "Epoch 5/10\n",
            "\u001b[1m313/313\u001b[0m \u001b[32m━━━━━━━━━━━━━━━━━━━━\u001b[0m\u001b[37m\u001b[0m \u001b[1m11s\u001b[0m 33ms/step - accuracy: 0.5474 - loss: 0.6290 - val_accuracy: 0.4968 - val_loss: 0.8085\n",
            "Epoch 6/10\n",
            "\u001b[1m313/313\u001b[0m \u001b[32m━━━━━━━━━━━━━━━━━━━━\u001b[0m\u001b[37m\u001b[0m \u001b[1m10s\u001b[0m 32ms/step - accuracy: 0.5592 - loss: 0.6284 - val_accuracy: 0.4940 - val_loss: 0.8400\n",
            "Epoch 7/10\n",
            "\u001b[1m313/313\u001b[0m \u001b[32m━━━━━━━━━━━━━━━━━━━━\u001b[0m\u001b[37m\u001b[0m \u001b[1m10s\u001b[0m 33ms/step - accuracy: 0.5587 - loss: 0.6204 - val_accuracy: 0.4970 - val_loss: 0.8577\n",
            "Epoch 8/10\n",
            "\u001b[1m313/313\u001b[0m \u001b[32m━━━━━━━━━━━━━━━━━━━━\u001b[0m\u001b[37m\u001b[0m \u001b[1m21s\u001b[0m 33ms/step - accuracy: 0.5689 - loss: 0.6153 - val_accuracy: 0.7360 - val_loss: 0.6174\n",
            "Epoch 9/10\n",
            "\u001b[1m313/313\u001b[0m \u001b[32m━━━━━━━━━━━━━━━━━━━━\u001b[0m\u001b[37m\u001b[0m \u001b[1m20s\u001b[0m 33ms/step - accuracy: 0.7766 - loss: 0.4569 - val_accuracy: 0.8590 - val_loss: 0.3872\n",
            "Epoch 10/10\n",
            "\u001b[1m313/313\u001b[0m \u001b[32m━━━━━━━━━━━━━━━━━━━━\u001b[0m\u001b[37m\u001b[0m \u001b[1m21s\u001b[0m 33ms/step - accuracy: 0.9288 - loss: 0.1888 - val_accuracy: 0.8642 - val_loss: 0.4346\n"
          ]
        }
      ],
      "source": [
        "history = best_rnn_model.fit(\n",
        "    x_train_final, y_train_final,\n",
        "    epochs = 10,\n",
        "    batch_size = 64,\n",
        "    validation_data = (x_val, y_val)\n",
        ")"
      ]
    },
    {
      "cell_type": "code",
      "execution_count": 37,
      "id": "Gzy4SlMqqY_-",
      "metadata": {
        "colab": {
          "base_uri": "https://localhost:8080/"
        },
        "id": "Gzy4SlMqqY_-",
        "outputId": "22e64306-97e7-443c-c78f-08409951fdce"
      },
      "outputs": [
        {
          "name": "stdout",
          "output_type": "stream",
          "text": [
            "\u001b[1m157/157\u001b[0m \u001b[32m━━━━━━━━━━━━━━━━━━━━\u001b[0m\u001b[37m\u001b[0m \u001b[1m2s\u001b[0m 10ms/step - accuracy: 0.8695 - loss: 0.4144\n",
            "Validation Loss: 0.4346\n",
            "Validation Accuracy: 0.8642\n"
          ]
        }
      ],
      "source": [
        "loss, accuracy = best_rnn_model.evaluate(x_val, y_val)\n",
        "print(f\"Validation Loss: {loss:.4f}\")\n",
        "print(f\"Validation Accuracy: {accuracy:.4f}\")"
      ]
    },
    {
      "cell_type": "code",
      "execution_count": 36,
      "id": "lFXuzEkZs35K",
      "metadata": {
        "colab": {
          "base_uri": "https://localhost:8080/",
          "height": 507
        },
        "id": "lFXuzEkZs35K",
        "outputId": "b5c40cdb-dcb7-4339-a8bf-b1fab248bc80"
      },
      "outputs": [
        {
          "data": {
            "image/png": "[encoded data removed]",
            "text/plain": [
              "<Figure size 1200x500 with 2 Axes>"
            ]
          },
          "metadata": {},
          "output_type": "display_data"
        }
      ],
      "source": [
        "# Plot training & validation accuracy\n",
        "plt.figure(figsize = (12, 5))\n",
        "\n",
        "# Accuracy\n",
        "plt.subplot(1, 2, 1)\n",
        "plt.plot(history.history[\"accuracy\"], label = \"Train Accuracy\")\n",
        "plt.plot(history.history[\"val_accuracy\"], label = \"Val Accuracy\")\n",
        "plt.title(\"Training vs Validation Accuracy\")\n",
        "plt.xlabel(\"Epochs\")\n",
        "plt.ylabel(\"Accuracy\")\n",
        "plt.legend()\n",
        "\n",
        "# Loss\n",
        "plt.subplot(1, 2, 2)\n",
        "plt.plot(history.history[\"loss\"], label = \"Train Loss\")\n",
        "plt.plot(history.history[\"val_loss\"], label = \"Val Loss\")\n",
        "plt.title(\"Training vs Validation Loss\")\n",
        "plt.xlabel(\"Epochs\")\n",
        "plt.ylabel(\"Loss\")\n",
        "plt.legend()\n",
        "\n",
        "plt.tight_layout()\n",
        "plt.show()"
      ]
    },
    {
      "cell_type": "markdown",
      "id": "EIqcXnU_txEq",
      "metadata": {
        "id": "EIqcXnU_txEq"
      },
      "source": [
        "1. Accuracy Plot Analysis\n",
        "- ***Training Accuracy:*** Steadily increases and crosses 95% by epoch 9\n",
        "\n",
        "- ***Validation Accuracy:*** Low at first, then rapidly improves after epoch 6 — reaches ~87% Indicates that the model generalized well after tuning.\n",
        "\n",
        "2. Loss Plot Analysis\n",
        "- ***Training Loss:*** Decreases consistently — model is learning effectively\n",
        "\n",
        "- ***Validation Loss:*** Rises until epoch 6 (overfitting danger zone), then drops sharply — strong sign that early stopping kicked in at the right time"
      ]
    },
    {
      "cell_type": "markdown",
      "id": "0mrZBH6tuPKf",
      "metadata": {
        "id": "0mrZBH6tuPKf"
      },
      "source": [
        "### Model Evaluation on the Test dataset."
      ]
    },
    {
      "cell_type": "code",
      "execution_count": 35,
      "id": "PTBt79_dsWqX",
      "metadata": {
        "colab": {
          "base_uri": "https://localhost:8080/"
        },
        "id": "PTBt79_dsWqX",
        "outputId": "6eb931e2-15a1-411d-c857-a9da3b7427a2"
      },
      "outputs": [
        {
          "name": "stdout",
          "output_type": "stream",
          "text": [
            "\u001b[1m782/782\u001b[0m \u001b[32m━━━━━━━━━━━━━━━━━━━━\u001b[0m\u001b[37m\u001b[0m \u001b[1m7s\u001b[0m 9ms/step - accuracy: 0.8598 - loss: 0.4437\n",
            "Test Loss: 0.4445\n",
            "Test Accuracy: 0.8594\n"
          ]
        }
      ],
      "source": [
        "loss, accuracy = best_rnn_model.evaluate(x_test_padded, y_test)\n",
        "print(f\"Test Loss: {loss:.4f}\")\n",
        "print(f\"Test Accuracy: {accuracy:.4f}\")"
      ]
    },
    {
      "cell_type": "markdown",
      "id": "r4rBTG62waJN",
      "metadata": {
        "id": "r4rBTG62waJN"
      },
      "source": [
        "## Task - 7: Comparative Analysis"
      ]
    },
    {
      "cell_type": "code",
      "execution_count": 38,
      "id": "Ne0l6C01wfx-",
      "metadata": {
        "id": "Ne0l6C01wfx-"
      },
      "outputs": [],
      "source": [
        "from tensorflow.keras import Sequential\n",
        "from tensorflow.keras.layers import Input, Embedding, GlobalAveragePooling1D, Dense, Dropout"
      ]
    },
    {
      "cell_type": "markdown",
      "id": "TLqy6HO4wvj2",
      "metadata": {
        "id": "TLqy6HO4wvj2"
      },
      "source": [
        "Creating a new Artificial Neural Network(ANN)."
      ]
    },
    {
      "cell_type": "code",
      "execution_count": 40,
      "id": "pqflBUlGwuIX",
      "metadata": {
        "id": "pqflBUlGwuIX"
      },
      "outputs": [],
      "source": [
        "def create_ann_model(vocab_size = 10_000, input_length = maxlen):\n",
        "\n",
        "    model = Sequential([\n",
        "        Input(shape = (input_length,)),\n",
        "        Embedding(input_dim = vocab_size, output_dim = 128),\n",
        "        GlobalAveragePooling1D(),\n",
        "        Dense(64, activation = \"relu\"),\n",
        "        Dropout(0.3),\n",
        "        Dense(1, activation = \"sigmoid\")\n",
        "    ])\n",
        "\n",
        "    model.compile(\n",
        "        loss = \"binary_crossentropy\",\n",
        "        optimizer = optimizers.Adam(learning_rate = 0.001),\n",
        "        metrics = [\"accuracy\"]\n",
        "    )\n",
        "    return model"
      ]
    },
    {
      "cell_type": "code",
      "execution_count": 41,
      "id": "iSsEJL_esb78",
      "metadata": {
        "colab": {
          "base_uri": "https://localhost:8080/"
        },
        "id": "iSsEJL_esb78",
        "outputId": "86b7030e-e3bb-47da-d375-1da2a5dc8c84"
      },
      "outputs": [
        {
          "name": "stdout",
          "output_type": "stream",
          "text": [
            "Epoch 1/10\n",
            "\u001b[1m313/313\u001b[0m \u001b[32m━━━━━━━━━━━━━━━━━━━━\u001b[0m\u001b[37m\u001b[0m \u001b[1m6s\u001b[0m 10ms/step - accuracy: 0.5624 - loss: 0.6778 - val_accuracy: 0.7892 - val_loss: 0.4814\n",
            "Epoch 2/10\n",
            "\u001b[1m313/313\u001b[0m \u001b[32m━━━━━━━━━━━━━━━━━━━━\u001b[0m\u001b[37m\u001b[0m \u001b[1m1s\u001b[0m 3ms/step - accuracy: 0.7762 - loss: 0.4630 - val_accuracy: 0.8184 - val_loss: 0.3857\n",
            "Epoch 3/10\n",
            "\u001b[1m313/313\u001b[0m \u001b[32m━━━━━━━━━━━━━━━━━━━━\u001b[0m\u001b[37m\u001b[0m \u001b[1m1s\u001b[0m 3ms/step - accuracy: 0.8292 - loss: 0.3792 - val_accuracy: 0.8352 - val_loss: 0.3672\n",
            "Epoch 4/10\n",
            "\u001b[1m313/313\u001b[0m \u001b[32m━━━━━━━━━━━━━━━━━━━━\u001b[0m\u001b[37m\u001b[0m \u001b[1m1s\u001b[0m 3ms/step - accuracy: 0.8536 - loss: 0.3390 - val_accuracy: 0.8536 - val_loss: 0.3357\n",
            "Epoch 5/10\n",
            "\u001b[1m313/313\u001b[0m \u001b[32m━━━━━━━━━━━━━━━━━━━━\u001b[0m\u001b[37m\u001b[0m \u001b[1m1s\u001b[0m 3ms/step - accuracy: 0.8687 - loss: 0.3133 - val_accuracy: 0.8724 - val_loss: 0.2971\n",
            "Epoch 6/10\n",
            "\u001b[1m313/313\u001b[0m \u001b[32m━━━━━━━━━━━━━━━━━━━━\u001b[0m\u001b[37m\u001b[0m \u001b[1m1s\u001b[0m 3ms/step - accuracy: 0.8767 - loss: 0.2931 - val_accuracy: 0.8854 - val_loss: 0.2829\n",
            "Epoch 7/10\n",
            "\u001b[1m313/313\u001b[0m \u001b[32m━━━━━━━━━━━━━━━━━━━━\u001b[0m\u001b[37m\u001b[0m \u001b[1m1s\u001b[0m 4ms/step - accuracy: 0.8862 - loss: 0.2793 - val_accuracy: 0.8854 - val_loss: 0.2834\n",
            "Epoch 8/10\n",
            "\u001b[1m313/313\u001b[0m \u001b[32m━━━━━━━━━━━━━━━━━━━━\u001b[0m\u001b[37m\u001b[0m \u001b[1m1s\u001b[0m 3ms/step - accuracy: 0.9077 - loss: 0.2326 - val_accuracy: 0.8872 - val_loss: 0.2862\n",
            "Epoch 9/10\n",
            "\u001b[1m313/313\u001b[0m \u001b[32m━━━━━━━━━━━━━━━━━━━━\u001b[0m\u001b[37m\u001b[0m \u001b[1m2s\u001b[0m 5ms/step - accuracy: 0.9067 - loss: 0.2332 - val_accuracy: 0.8732 - val_loss: 0.3092\n",
            "Epoch 10/10\n",
            "\u001b[1m313/313\u001b[0m \u001b[32m━━━━━━━━━━━━━━━━━━━━\u001b[0m\u001b[37m\u001b[0m \u001b[1m1s\u001b[0m 4ms/step - accuracy: 0.9177 - loss: 0.2166 - val_accuracy: 0.8844 - val_loss: 0.2946\n"
          ]
        }
      ],
      "source": [
        "# Initialize the ANN model\n",
        "ann_model = create_ann_model()\n",
        "\n",
        "# training the FFNN model\n",
        "history_ffnn = ann_model.fit(\n",
        "    x_train_final, y_train_final,\n",
        "    epochs = 10,\n",
        "    batch_size = 64,\n",
        "    validation_data = (x_val, y_val)\n",
        ")\n"
      ]
    },
    {
      "cell_type": "code",
      "execution_count": 43,
      "id": "GyPRDJKwyPQS",
      "metadata": {
        "colab": {
          "base_uri": "https://localhost:8080/",
          "height": 507
        },
        "id": "GyPRDJKwyPQS",
        "outputId": "d1abe63b-8ba6-4269-a8b3-bc3372dd3ac0"
      },
      "outputs": [
        {
          "data": {
            "image/png": "[encoded data removed]",
            "text/plain": [
              "<Figure size 1200x500 with 2 Axes>"
            ]
          },
          "metadata": {},
          "output_type": "display_data"
        }
      ],
      "source": [
        "# Plot training & validation accuracy\n",
        "plt.figure(figsize = (12, 5))\n",
        "\n",
        "# Accuracy\n",
        "plt.subplot(1, 2, 1)\n",
        "plt.plot(history_ffnn.history[\"accuracy\"], label = \"Train Accuracy\")\n",
        "plt.plot(history_ffnn.history[\"val_accuracy\"], label = \"Val Accuracy\")\n",
        "plt.title(\"Training vs Validation Accuracy\")\n",
        "plt.xlabel(\"Epochs\")\n",
        "plt.ylabel(\"Accuracy\")\n",
        "plt.legend()\n",
        "\n",
        "# Loss\n",
        "plt.subplot(1, 2, 2)\n",
        "plt.plot(history_ffnn.history[\"loss\"], label = \"Train Loss\")\n",
        "plt.plot(history_ffnn.history[\"val_loss\"], label = \"Val Loss\")\n",
        "plt.title(\"Training vs Validation Loss\")\n",
        "plt.xlabel(\"Epochs\")\n",
        "plt.ylabel(\"Loss\")\n",
        "plt.legend()\n",
        "\n",
        "plt.tight_layout()\n",
        "plt.show()"
      ]
    },
    {
      "cell_type": "code",
      "execution_count": 42,
      "id": "npTsX-rIxST_",
      "metadata": {
        "colab": {
          "base_uri": "https://localhost:8080/"
        },
        "id": "npTsX-rIxST_",
        "outputId": "5f9256a9-fb00-4d57-c570-1cba76df6053"
      },
      "outputs": [
        {
          "name": "stdout",
          "output_type": "stream",
          "text": [
            "\u001b[1m782/782\u001b[0m \u001b[32m━━━━━━━━━━━━━━━━━━━━\u001b[0m\u001b[37m\u001b[0m \u001b[1m2s\u001b[0m 2ms/step - accuracy: 0.8834 - loss: 0.3040\n"
          ]
        },
        {
          "data": {
            "text/plain": [
              "[0.30250969529151917, 0.8832799792289734]"
            ]
          },
          "execution_count": 42,
          "metadata": {},
          "output_type": "execute_result"
        }
      ],
      "source": [
        "ann_model.evaluate(x_test_padded, y_test)"
      ]
    },
    {
      "cell_type": "markdown",
      "id": "qUBEVHAYyNIt",
      "metadata": {
        "id": "qUBEVHAYyNIt"
      },
      "source": [
        "### Conclusion\n",
        "\n",
        "- ANN outperformed RNN in both accuracy and generalization — which is surprising but valid.\n",
        "\n",
        "- The IMDB dataset is relatively small (~25,000 samples) and binary-labeled, which means:\n",
        "  - Complex sequence dependencies may not be necessary\n",
        "  -A simple bag-of-words style representation (which ANN uses via GlobalAveragePooling) works well\n",
        "\n",
        "- RNNs are powerful, but also sensitive to:\n",
        "\n",
        "  - Overfitting on smaller datasets\n",
        "\n",
        "  - Poor hyperparameter choices\n",
        "\n",
        "  - Sequence length and padding\n",
        "\n"
      ]
    },
    {
      "cell_type": "markdown",
      "id": "45isOzvRzezz",
      "metadata": {
        "id": "45isOzvRzezz"
      },
      "source": [
        "On this dataset, the simplicity and regularization of the ANN allowed it to outperform the more complex RNN. For real-world NLP tasks with larger datasets or nuanced context (like question answering, translation), RNNs (or Transformers) would still be superior."
      ]
    }
  ],
  "metadata": {
    "accelerator": "GPU",
    "colab": {
      "gpuType": "T4",
      "provenance": []
    },
    "kernelspec": {
      "display_name": ".venv",
      "language": "python",
      "name": "python3"
    },
    "language_info": {
      "codemirror_mode": {
        "name": "ipython",
        "version": 3
      },
      "file_extension": ".py",
      "mimetype": "text/x-python",
      "name": "python",
      "nbconvert_exporter": "python",
      "pygments_lexer": "ipython3",
      "version": "3.11.8"
    }
  },
  "nbformat": 4,
  "nbformat_minor": 5
}
